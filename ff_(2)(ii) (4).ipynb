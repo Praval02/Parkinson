{
  "nbformat": 4,
  "nbformat_minor": 0,
  "metadata": {
    "colab": {
      "provenance": []
    },
    "kernelspec": {
      "name": "python3",
      "display_name": "Python 3"
    },
    "language_info": {
      "name": "python"
    }
  },
  "cells": [
    {
      "cell_type": "code",
      "source": [
        "from PIL import Image\n",
        "import numpy as np\n",
        "import matplotlib.pyplot as plt\n",
        "\n",
        "# Load the image\n",
        "image_path = '/content/Screenshot 2024-07-19 111906.png'  # Change the path to the correct image file\n",
        "image = Image.open(image_path)\n",
        "\n",
        "# Convert image to numpy array\n",
        "image_data = np.array(image)\n",
        "\n",
        "# Convert the image to grayscale (for easier processing, if needed)\n",
        "gray_image = np.mean(image_data[:, :, :3], axis=2)\n",
        "\n",
        "# Convert the image to grayscale (for easier processing, if needed)\n",
        "gray_image = np.mean(image_data[:, :, :3], axis=2)\n",
        "\n",
        "# Display the grayscale image\n",
        "plt.imshow(gray_image, cmap='gray')\n",
        "plt.title('Grayscale Waveform Image')\n",
        "plt.show()\n",
        "\n",
        "# Apply a threshold to isolate the waveform line\n",
        "threshold = 100  # Adjust based on the image\n",
        "binary_image = gray_image < threshold\n",
        "\n",
        "# Get the height and width of the image\n",
        "height, width = binary_image.shape\n",
        "\n",
        "# Initialize arrays to store feature values\n",
        "jitter_percentages = []\n",
        "\n",
        "# Extract the y-coordinates of the waveform line for each x-coordinate\n",
        "for x in range(width):\n",
        "    y_coords = np.where(binary_image[:, x])[0]\n",
        "    if len(y_coords) > 1:\n",
        "        # Compute jitter (local) - standard deviation of y-coordinates\n",
        "        jitter_local = np.std(np.diff(y_coords))\n",
        "        jitter_percentages.append(jitter_local / height)  # Store jitter as a percentage of image height\n",
        "\n",
        "\n",
        "# Calculate mean jitter and shimmer across all x-coordinates\n",
        "mean_jitter_percentage = np.mean(jitter_percentages) * 100\n",
        "\n",
        "# Extract the y-coordinates of the waveform line for each x-coordinate\n",
        "y_coords = []\n",
        "for x in range(width):\n",
        "    y = np.where(binary_image[:, x])[0]\n",
        "    if len(y) > 0:\n",
        "        y_coords.append(np.mean(y))\n",
        "\n",
        "y_coords = np.array(y_coords)\n",
        "\n",
        "# Print extracted features\n",
        "print(f\"Jitter (%): {mean_jitter_percentage}\")\n",
        "\n",
        "# Jitter (RAP)\n",
        "jitter_rap = np.mean(np.abs(np.diff(y_coords, n=2)) / y_coords[1:-1])\n",
        "print(f\"Jitter (RAP): {jitter_rap}\")\n",
        "\n",
        "# Jitter (PPQ5)\n",
        "jitter_ppq5 = np.mean(np.abs(np.diff(y_coords, n=4)) / y_coords[2:-2])\n",
        "print(f\"Jitter (PPQ5): {jitter_ppq5}\")\n",
        "\n",
        "# Jitter (DDP)\n",
        "jitter_ddp = np.mean(np.abs(np.diff(y_coords, n=3)) / y_coords[1:-2])\n",
        "print(f\"Jitter (DDP): {jitter_ddp}\")"
      ],
      "metadata": {
        "id": "Oxg0LDyOaqys",
        "outputId": "301dc2d0-c079-4aef-d66a-6f08121ad56b",
        "colab": {
          "base_uri": "https://localhost:8080/",
          "height": 375
        }
      },
      "execution_count": null,
      "outputs": [
        {
          "output_type": "display_data",
          "data": {
            "text/plain": [
              "<Figure size 640x480 with 1 Axes>"
            ],
            "image/png": "[encoded data removed]"
          },
          "metadata": {}
        },
        {
          "output_type": "stream",
          "name": "stdout",
          "text": [
            "Jitter (%): 0.008159589291897574\n",
            "Jitter (RAP): 0.001100401466970021\n",
            "Jitter (PPQ5): 0.002890195842081984\n",
            "Jitter (DDP): 0.0016133771862439936\n"
          ]
        }
      ]
    },
    {
      "cell_type": "code",
      "source": [
        "waveform = (image_data[height//2, :] / 255.0) * 2 - 1  # Normalize to -1 to 1\n",
        "import librosa\n",
        "import librosa.display\n",
        "# Step 3: Assume a sample rate\n",
        "sample_rate = 22050  # This may need adjustment based on your specific data\n",
        "\n",
        "# Step 4: Calculate features using librosa and other methods where necessary\n",
        "\n",
        "# Shimmer calculation\n",
        "def calculate_shimmer(waveform):\n",
        "    shimmer = np.std(np.abs(waveform))\n",
        "    shimmer_apq3 = np.mean(np.abs(waveform[3:] - waveform[:-3]))\n",
        "    shimmer_apq5 = np.mean(np.abs(waveform[5:] - waveform[:-5]))\n",
        "    shimmer_apq11 = np.mean(np.abs(waveform[11:] - waveform[:-11]))\n",
        "    shimmer_dda = np.mean(np.abs(waveform[2:] - waveform[:-2]))\n",
        "    return shimmer, shimmer_apq3, shimmer_apq5, shimmer_apq11, shimmer_dda\n",
        "\n",
        "\n",
        "# Calculate shimmer\n",
        "shimmer, shimmer_apq3, shimmer_apq5, shimmer_apq11, shimmer_dda = calculate_shimmer(waveform)\n",
        "\n",
        "# Print extracted features\n",
        "print(\"Extracted features:\")\n",
        "print(f\"Shimmer: {shimmer}\")\n",
        "print(f\"Shimmer:APQ3: {shimmer_apq3}\")\n",
        "print(f\"Shimmer:APQ5: {shimmer_apq5}\")\n",
        "print(f\"Shimmer:APQ11: {shimmer_apq11}\")\n",
        "print(f\"Shimmer:DDA: {shimmer_dda}\")"
      ],
      "metadata": {
        "id": "LoS3cKgi3hA9",
        "outputId": "169be2d4-5117-47d0-f79c-3857234c4971",
        "colab": {
          "base_uri": "https://localhost:8080/"
        }
      },
      "execution_count": null,
      "outputs": [
        {
          "output_type": "stream",
          "name": "stdout",
          "text": [
            "Extracted features:\n",
            "Shimmer: 0.1054401581526101\n",
            "Shimmer:APQ3: 0.0041949766378976145\n",
            "Shimmer:APQ5: 0.00426506368970946\n",
            "Shimmer:APQ11: 0.004291916136863979\n",
            "Shimmer:DDA: 0.003994945171415759\n"
          ]
        }
      ]
    },
    {
      "cell_type": "code",
      "source": [
        "import numpy as np\n",
        "import matplotlib.pyplot as plt\n",
        "from PIL import Image\n",
        "import librosa\n",
        "import librosa.display\n",
        "from scipy.stats import entropy\n",
        "\n",
        "image = Image.open(image_path).convert('L')  # Convert to grayscale\n",
        "image_data = np.array(image)\n",
        "\n",
        "# Step 2: Convert Image to Waveform\n",
        "# Assuming the waveform is represented as a plot from -1 to 1 on the y-axis and time on the x-axis\n",
        "height, width = image_data.shape\n",
        "waveform = (image_data[height//2, :] / 255.0)\n",
        "\n",
        "# Normalize the waveform\n",
        "waveform = waveform - np.mean(waveform)\n",
        "waveform = waveform / np.max(np.abs(waveform))\n",
        "\n",
        "# Sample rate assumption\n",
        "sample_rate = 22050  # Adjust based on your data\n",
        "\n",
        "# DFA Calculation\n",
        "def calculate_dfa(waveform):\n",
        "    def dfa(y):\n",
        "        N = len(y)\n",
        "        nvals = np.logspace(0.5, np.log10(N // 2), num=20).astype(int)\n",
        "        F = np.zeros(len(nvals))\n",
        "\n",
        "        for i, n in enumerate(nvals):\n",
        "            n_segments = N // n\n",
        "            X = np.tile(np.arange(n), (n_segments, 1))\n",
        "            Y = y[:n * n_segments].reshape((n_segments, n))\n",
        "            Y_cumsum = np.cumsum(Y - np.mean(Y, axis=1)[:, None], axis=1)\n",
        "            Y_fit = np.array([np.polyfit(X[j], Y_cumsum[j], 1)[0] * X[j] + np.polyfit(X[j], Y_cumsum[j], 1)[1] for j in range(n_segments)])\n",
        "            F[i] = np.sqrt(np.mean((Y_cumsum - Y_fit) ** 2))\n",
        "\n",
        "        # Fit a line to log-log plot\n",
        "        p = np.polyfit(np.log(nvals), np.log(F), 1)\n",
        "        return p[0]\n",
        "\n",
        "    return dfa(waveform)\n",
        "\n",
        "# Calculate DFA\n",
        "dfa = calculate_dfa(waveform)\n",
        "\n",
        "# Print extracted features\n",
        "print(\"Extracted features:\")\n",
        "print(f\"DFA: {dfa}\")"
      ],
      "metadata": {
        "id": "lVulj21C3mpm",
        "outputId": "fdf53c24-e0ce-4a60-f328-352e58bc9138",
        "colab": {
          "base_uri": "https://localhost:8080/"
        }
      },
      "execution_count": null,
      "outputs": [
        {
          "output_type": "stream",
          "name": "stdout",
          "text": [
            "Extracted features:\n",
            "DFA: 0.6460460703851642\n"
          ]
        }
      ]
    },
    {
      "cell_type": "code",
      "source": [
        "import numpy as np\n",
        "import matplotlib.pyplot as plt\n",
        "from PIL import Image\n",
        "\n",
        "# Get the height and width of the image\n",
        "height, width = image_data.shape\n",
        "\n",
        "# Apply a threshold to isolate the waveform line\n",
        "threshold = 100  # Adjust based on the image\n",
        "binary_image = image_data < threshold\n",
        "\n",
        "# Extract the waveform from the image (assuming the waveform is represented along the middle row)\n",
        "waveform = (image_data[height // 2, :] / 255.0) * 2 - 1  # Normalize to -1 to 1\n",
        "\n",
        "# Normalize the waveform\n",
        "waveform = waveform - np.mean(waveform)\n",
        "waveform = waveform / np.max(np.abs(waveform))"
      ],
      "metadata": {
        "id": "7pQIxinK3toZ"
      },
      "execution_count": null,
      "outputs": []
    },
    {
      "cell_type": "code",
      "source": [
        "import numpy as np\n",
        "\n",
        "# Shimmer in dB calculation\n",
        "def calculate_shimmer_db(waveform):\n",
        "    N = len(waveform)\n",
        "    shimmer_db_values = []\n",
        "    for i in range(N - 1):\n",
        "        A_i = np.abs(waveform[i])\n",
        "        A_i1 = np.abs(waveform[i + 1])\n",
        "        if A_i > 0 and A_i1 > 0:  # To avoid log of zero\n",
        "            shimmer_db_value = np.abs(20 * np.log10(A_i1 / A_i))\n",
        "            shimmer_db_values.append(shimmer_db_value)\n",
        "    shimmer_db = np.mean(shimmer_db_values)\n",
        "    return shimmer_db\n",
        "\n",
        "# Calculate shimmer in dB\n",
        "shimmer_db = calculate_shimmer_db(waveform)\n",
        "\n",
        "# Print extracted feature\n",
        "print(f\"Shimmer in dB: {shimmer_db}\")"
      ],
      "metadata": {
        "id": "SJw1X-ap3yNo",
        "outputId": "8fe932fe-a74f-478d-80b5-4c9bf92d228b",
        "colab": {
          "base_uri": "https://localhost:8080/"
        }
      },
      "execution_count": null,
      "outputs": [
        {
          "output_type": "stream",
          "name": "stdout",
          "text": [
            "Shimmer in dB: 0.5034370269264304\n"
          ]
        }
      ]
    },
    {
      "cell_type": "code",
      "source": [
        "from scipy.signal import find_peaks\n",
        "def calculate_jitter_abs(waveform, sample_rate):\n",
        "    # Normalize the waveform\n",
        "    waveform = waveform - np.mean(waveform)\n",
        "    waveform = waveform / np.max(np.abs(waveform))\n",
        "\n",
        "    # Detect peaks in the waveform\n",
        "    peaks, _ = find_peaks(waveform, height=0)\n",
        "\n",
        "    # Calculate the periods between consecutive peaks\n",
        "    periods = np.diff(peaks) / sample_rate  # Periods in seconds\n",
        "\n",
        "    # Compute the absolute differences between consecutive periods\n",
        "    absolute_differences = np.abs(np.diff(periods))\n",
        "\n",
        "    # Compute the average of these absolute differences\n",
        "    jitter_abs = np.mean(absolute_differences)\n",
        "\n",
        "    return jitter_abs\n",
        "\n",
        "# Example usage:\n",
        "# Load your waveform data\n",
        "# Here, we simulate a waveform for demonstration purposes.\n",
        "sample_rate = 22050\n",
        "\n",
        "# Calculate Jitter(Abs)\n",
        "jitter_abs = calculate_jitter_abs(waveform, sample_rate)\n",
        "\n",
        "print(f\"Jitter(Abs): {jitter_abs}\")"
      ],
      "metadata": {
        "id": "JfUjJVRv31tC",
        "outputId": "adbcde84-6256-4f60-d1b1-d72569b116ae",
        "colab": {
          "base_uri": "https://localhost:8080/"
        }
      },
      "execution_count": null,
      "outputs": [
        {
          "output_type": "stream",
          "name": "stdout",
          "text": [
            "Jitter(Abs): 0.003999999999999999\n"
          ]
        }
      ]
    },
    {
      "cell_type": "code",
      "source": [
        "import numpy as np\n",
        "import librosa\n",
        "import matplotlib.pyplot as plt\n",
        "from scipy.stats import entropy\n",
        "from PIL import Image\n",
        "\n",
        "# Extract waveform from the image\n",
        "height, width = image_data.shape\n",
        "waveform = (image_data[height//2, :] / 255.0) * 2 - 1  # Normalize to -1 to 1\n",
        "\n",
        "# Sample rate assumption\n",
        "sample_rate = 22050  # Adjust based on your data\n",
        "\n",
        "# Function to embed the time series in phase space\n",
        "def embed_time_series(signal, tau, dimension):\n",
        "    N = len(signal)\n",
        "    if N < (dimension - 1) * tau:\n",
        "        raise ValueError(\"Signal is too short for given embedding parameters.\")\n",
        "    embedded = np.array([signal[i: i + (dimension - 1) * tau + 1: tau] for i in range(N - (dimension - 1) * tau)])\n",
        "    return embedded\n",
        "\n",
        "# RPDE Calculation\n",
        "def calculate_rpde(signal, tau=1, dimension=3):\n",
        "    embedded = embed_time_series(signal, tau, dimension)\n",
        "    T_values = []\n",
        "    for i, point in enumerate(embedded):\n",
        "        distances = np.linalg.norm(embedded - point, axis=1)\n",
        "        neighborhood = np.where((distances > 0) & (distances < np.mean(distances)))[0]\n",
        "        if len(neighborhood) > 1:\n",
        "            T = np.diff(neighborhood)\n",
        "            T_values.extend(T)\n",
        "    T_max = 1000\n",
        "    hist, bin_edges = np.histogram(T_values, bins=T_max, range=(1, T_max), density=True)\n",
        "    P_T = hist / np.sum(hist)\n",
        "    RPDE_value = -np.sum(P_T * np.log(P_T + 1e-10)) / np.log(T_max)\n",
        "    return RPDE_value\n",
        "\n",
        "\n",
        "# Calculate the features\n",
        "rpde = calculate_rpde(waveform)\n",
        "\n",
        "# Print extracted features\n",
        "print(f\"RPDE: {rpde}\")"
      ],
      "metadata": {
        "id": "WBqCovyD35gQ",
        "outputId": "f72b6ee7-ca24-4d05-b404-2f7668248264",
        "colab": {
          "base_uri": "https://localhost:8080/"
        }
      },
      "execution_count": null,
      "outputs": [
        {
          "output_type": "stream",
          "name": "stdout",
          "text": [
            "RPDE: 0.010330851769589292\n"
          ]
        }
      ]
    },
    {
      "cell_type": "code",
      "source": [
        "import numpy as np\n",
        "import matplotlib.pyplot as plt\n",
        "from PIL import Image\n",
        "from scipy.signal import find_peaks\n",
        "from scipy.stats import entropy\n",
        "\n",
        "# Extract the y-coordinates of the waveform line for each x-coordinate\n",
        "y_coords = []\n",
        "for x in range(width):\n",
        "    y = np.where(binary_image[:, x])[0]\n",
        "    if len(y) > 0:\n",
        "        y_coords.append(np.mean(y))\n",
        "\n",
        "y_coords = np.array(y_coords)\n",
        "\n",
        "# Normalize the waveform\n",
        "waveform = y_coords - np.mean(y_coords)\n",
        "waveform = waveform / np.max(np.abs(waveform))\n",
        "\n",
        "# Sample rate assumption\n",
        "sample_rate = 22050  # Adjust based on your data\n",
        "\n",
        "# Function to calculate Pitch Period Entropy (PPE)\n",
        "def calculate_ppe(waveform, sample_rate):\n",
        "    peaks, _ = find_peaks(waveform)\n",
        "    periods = np.diff(peaks) / sample_rate\n",
        "    hist, bin_edges = np.histogram(periods, bins='auto', density=True)\n",
        "    ppe = entropy(hist)\n",
        "    return ppe\n",
        "\n",
        "# Calculate PPE\n",
        "ppe = calculate_ppe(waveform, sample_rate)\n",
        "\n",
        "# Print extracted features\n",
        "print(f\"Pitch Period Entropy (PPE): {ppe}\")\n"
      ],
      "metadata": {
        "id": "8uEn--Rm7jaJ",
        "outputId": "322ac72e-8aba-41a2-87ff-3cc319d0207e",
        "colab": {
          "base_uri": "https://localhost:8080/"
        }
      },
      "execution_count": null,
      "outputs": [
        {
          "output_type": "stream",
          "name": "stdout",
          "text": [
            "Pitch Period Entropy (PPE): 0.6554817739013927\n"
          ]
        }
      ]
    },
    {
      "cell_type": "code",
      "source": [
        "import numpy as np\n",
        "import matplotlib.pyplot as plt\n",
        "from PIL import Image\n",
        "# Convert image to numpy array\n",
        "image_data = np.array(image)\n",
        "\n",
        "# Apply a threshold to isolate the waveform line\n",
        "threshold = 100  # Adjust based on the image\n",
        "binary_image = image_data < threshold\n",
        "\n",
        "# Get the height and width of the image\n",
        "height, width = binary_image.shape\n",
        "\n",
        "# Extract the y-coordinates of the waveform line for each x-coordinate\n",
        "y_coords = []\n",
        "for x in range(width):\n",
        "    y = np.where(binary_image[:, x])[0]\n",
        "    if len(y) > 0:\n",
        "        y_coords.append(np.mean(y))\n",
        "\n",
        "# Normalize the waveform\n",
        "waveform = np.array(y_coords)\n",
        "waveform = waveform - np.mean(waveform)\n",
        "waveform = waveform / np.max(np.abs(waveform))\n",
        "\n",
        "\n"
      ],
      "metadata": {
        "id": "fv54WAUUcqBO"
      },
      "execution_count": null,
      "outputs": []
    },
    {
      "cell_type": "code",
      "source": [
        "import scipy.signal\n",
        "import scipy.fft\n",
        "\n",
        "def calculate_hnr(waveform, sample_rate):\n",
        "    # Perform a Fourier Transform on the waveform\n",
        "    fft_spectrum = scipy.fft.fft(waveform)\n",
        "    fft_freq = scipy.fft.fftfreq(len(waveform), 1 / sample_rate)\n",
        "\n",
        "    # Identify harmonic frequencies (peaks in the FFT spectrum)\n",
        "    peaks, _ = scipy.signal.find_peaks(np.abs(fft_spectrum), height=0)\n",
        "\n",
        "    harmonic_power = np.sum(np.abs(fft_spectrum[peaks]) ** 2)\n",
        "    total_power = np.sum(np.abs(fft_spectrum) ** 2)\n",
        "    noise_power = total_power - harmonic_power\n",
        "\n",
        "    hnr = 10 * np.log10(harmonic_power / noise_power)\n",
        "\n",
        "    return hnr\n",
        "\n",
        "# Sample rate assumption\n",
        "sample_rate = 22050  # Adjust based on your specific data\n",
        "\n",
        "# Calculate HNR and NHR\n",
        "hnr = calculate_hnr(waveform, sample_rate)\n",
        "nhr=1/hnr\n",
        "print(f\"Harmonic to Noise Ratio (HNR): {hnr}\")\n",
        "print(f\"Noise to Harmonics Ratio (NHR): {1/hnr}\")\n"
      ],
      "metadata": {
        "id": "ec6puTascxJv",
        "outputId": "5a2dc6f0-1a6c-4498-c436-5bf48abbccd4",
        "colab": {
          "base_uri": "https://localhost:8080/"
        }
      },
      "execution_count": null,
      "outputs": [
        {
          "output_type": "stream",
          "name": "stdout",
          "text": [
            "Harmonic to Noise Ratio (HNR): 2.295550618327575\n",
            "Noise to Harmonics Ratio (NHR): 0.4356253318990416\n"
          ]
        }
      ]
    },
    {
      "cell_type": "code",
      "source": [
        "subject=43\n",
        "age=int(input(\"Enter the age: \"))\n",
        "sex=int(input(\"Whats the gender(0-Male,1-Female): \"))\n",
        "test_time=49\n",
        "final_list=np.array([subject,age,sex,test_time,mean_jitter_percentage,jitter_abs,jitter_rap,jitter_ppq5,jitter_ddp,shimmer ,shimmer_db,shimmer_apq3,shimmer_apq5,\n",
        "            shimmer_apq11,shimmer_dda,nhr,hnr,rpde,dfa,ppe])\n",
        "final_list"
      ],
      "metadata": {
        "id": "1qoOy2gs5p4n",
        "outputId": "517fd79d-5fb4-465e-d4db-2a315776a050",
        "colab": {
          "base_uri": "https://localhost:8080/"
        }
      },
      "execution_count": null,
      "outputs": [
        {
          "name": "stdout",
          "output_type": "stream",
          "text": [
            "Enter the age: 78\n",
            "Whats the gender(0-Male,1-Female): 0\n"
          ]
        },
        {
          "output_type": "execute_result",
          "data": {
            "text/plain": [
              "array([4.30000000e+01, 7.80000000e+01, 0.00000000e+00, 4.90000000e+01,\n",
              "       8.15958929e-03, 4.00000000e-03, 1.10040147e-03, 2.89019584e-03,\n",
              "       1.61337719e-03, 1.05440158e-01, 5.03437027e-01, 4.19497664e-03,\n",
              "       4.26506369e-03, 4.29191614e-03, 3.99494517e-03, 4.35625332e-01,\n",
              "       2.29555062e+00, 1.03308518e-02, 6.46046070e-01, 6.55481774e-01])"
            ]
          },
          "metadata": {},
          "execution_count": 31
        }
      ]
    },
    {
      "cell_type": "code",
      "source": [
        "final_list.shape"
      ],
      "metadata": {
        "id": "PxldMzou_zPf",
        "outputId": "36a51f19-62d1-40f4-e3f2-40a885136133",
        "colab": {
          "base_uri": "https://localhost:8080/"
        }
      },
      "execution_count": null,
      "outputs": [
        {
          "output_type": "execute_result",
          "data": {
            "text/plain": [
              "(20,)"
            ]
          },
          "metadata": {},
          "execution_count": 32
        }
      ]
    },
    {
      "cell_type": "code",
      "source": [
        "print(cnn_model.input_shape)\n"
      ],
      "metadata": {
        "id": "eZBuAoNQNQAP",
        "outputId": "8ac0bd42-8c79-41ff-b96a-6c66ca05c4b9",
        "colab": {
          "base_uri": "https://localhost:8080/"
        }
      },
      "execution_count": null,
      "outputs": [
        {
          "output_type": "stream",
          "name": "stdout",
          "text": [
            "(None, 20, 1)\n"
          ]
        }
      ]
    },
    {
      "cell_type": "code",
      "source": [
        "final_list_reshaped = final_list.reshape(1,20, 1)\n",
        "print(final_list_reshaped)"
      ],
      "metadata": {
        "id": "MLANhOSjNZYV",
        "colab": {
          "base_uri": "https://localhost:8080/"
        },
        "outputId": "23e52a9d-f471-42b0-9bc9-03638ba4984b"
      },
      "execution_count": null,
      "outputs": [
        {
          "output_type": "stream",
          "name": "stdout",
          "text": [
            "[[[4.30000000e+01]\n",
            "  [7.80000000e+01]\n",
            "  [0.00000000e+00]\n",
            "  [4.90000000e+01]\n",
            "  [8.15958929e-03]\n",
            "  [4.00000000e-03]\n",
            "  [1.10040147e-03]\n",
            "  [2.89019584e-03]\n",
            "  [1.61337719e-03]\n",
            "  [1.05440158e-01]\n",
            "  [5.03437027e-01]\n",
            "  [4.19497664e-03]\n",
            "  [4.26506369e-03]\n",
            "  [4.29191614e-03]\n",
            "  [3.99494517e-03]\n",
            "  [4.35625332e-01]\n",
            "  [2.29555062e+00]\n",
            "  [1.03308518e-02]\n",
            "  [6.46046070e-01]\n",
            "  [6.55481774e-01]]]\n"
          ]
        }
      ]
    },
    {
      "cell_type": "code",
      "source": [
        "final_list_reshaped.shape"
      ],
      "metadata": {
        "id": "UPLs60IvN6BN",
        "colab": {
          "base_uri": "https://localhost:8080/"
        },
        "outputId": "039d4115-0034-4ab5-9440-20b2bb3a6da2"
      },
      "execution_count": null,
      "outputs": [
        {
          "output_type": "execute_result",
          "data": {
            "text/plain": [
              "(1, 20, 1)"
            ]
          },
          "metadata": {},
          "execution_count": 35
        }
      ]
    },
    {
      "cell_type": "code",
      "source": [
        "# Make predictions\n",
        "prediction1 = cnn_model.predict(final_list_reshaped)\n",
        "print(prediction1)"
      ],
      "metadata": {
        "id": "AhIa-WtoNXh_",
        "colab": {
          "base_uri": "https://localhost:8080/"
        },
        "outputId": "70c1bb65-6c55-4fec-b675-1795457e9735"
      },
      "execution_count": null,
      "outputs": [
        {
          "output_type": "stream",
          "name": "stdout",
          "text": [
            "\u001b[1m1/1\u001b[0m \u001b[32m━━━━━━━━━━━━━━━━━━━━\u001b[0m\u001b[37m\u001b[0m \u001b[1m0s\u001b[0m 57ms/step\n",
            "[[0. 0. 1. 0.]]\n"
          ]
        }
      ]
    },
    {
      "cell_type": "code",
      "source": [
        "motor_final_list = np.hstack((final_list, prediction1[0,0]))\n",
        "total_final_list = np.hstack((final_list, prediction1[0,2]))"
      ],
      "metadata": {
        "id": "RqY_LOf_SEtx"
      },
      "execution_count": null,
      "outputs": []
    },
    {
      "cell_type": "code",
      "source": [
        "motor_UPDRS_pred = lgb_motor_model.predict(motor_final_list.reshape(1,-1))\n",
        "total_UPDRS_pred = lgb_total_model.predict(total_final_list.reshape(1,-1))\n",
        "print(motor_UPDRS_pred)\n",
        "print(total_UPDRS_pred)"
      ],
      "metadata": {
        "id": "qFjtfnizN8bd",
        "colab": {
          "base_uri": "https://localhost:8080/"
        },
        "outputId": "d6de222a-a944-4536-9314-99a22731f417"
      },
      "execution_count": null,
      "outputs": [
        {
          "output_type": "stream",
          "name": "stdout",
          "text": [
            "[7.03477628]\n",
            "[22.22218824]\n"
          ]
        }
      ]
    }
  ]
}